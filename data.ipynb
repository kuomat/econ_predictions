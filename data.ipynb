{
 "cells": [
  {
   "cell_type": "code",
   "execution_count": 4,
   "metadata": {},
   "outputs": [],
   "source": [
    "import pandas as pd\n",
    "import numpy as np\n",
    "from dateutil import parser"
   ]
  },
  {
   "attachments": {},
   "cell_type": "markdown",
   "metadata": {},
   "source": [
    "# News Data Processing"
   ]
  },
  {
   "cell_type": "code",
   "execution_count": 12,
   "metadata": {},
   "outputs": [],
   "source": [
    "def convert_to_month_day_year(datetime_str):\n",
    "    parsed_datetime = parser.parse(str(datetime_str))\n",
    "    formatted_datetime = parsed_datetime.strftime('%B %d, %Y')\n",
    "    return formatted_datetime"
   ]
  },
  {
   "cell_type": "code",
   "execution_count": 3,
   "metadata": {},
   "outputs": [
    {
     "name": "stdout",
     "output_type": "stream",
     "text": [
      "(2800, 2)\n"
     ]
    },
    {
     "name": "stderr",
     "output_type": "stream",
     "text": [
      "/opt/homebrew/Caskroom/miniforge/base/envs/jupyter/lib/python3.9/site-packages/dateutil/parser/_parser.py:1207: UnknownTimezoneWarning: tzname ET identified but not understood.  Pass `tzinfos` argument in order to correctly return a timezone-aware datetime.  In a future version, this will raise an exception.\n",
      "  warnings.warn(\"tzname {tzname} identified but not understood.  \"\n"
     ]
    },
    {
     "data": {
      "text/html": [
       "<div>\n",
       "<style scoped>\n",
       "    .dataframe tbody tr th:only-of-type {\n",
       "        vertical-align: middle;\n",
       "    }\n",
       "\n",
       "    .dataframe tbody tr th {\n",
       "        vertical-align: top;\n",
       "    }\n",
       "\n",
       "    .dataframe thead th {\n",
       "        text-align: right;\n",
       "    }\n",
       "</style>\n",
       "<table border=\"1\" class=\"dataframe\">\n",
       "  <thead>\n",
       "    <tr style=\"text-align: right;\">\n",
       "      <th></th>\n",
       "      <th>Headlines</th>\n",
       "      <th>Time</th>\n",
       "    </tr>\n",
       "  </thead>\n",
       "  <tbody>\n",
       "    <tr>\n",
       "      <th>0</th>\n",
       "      <td>Jim Cramer: A better way to invest in the Covi...</td>\n",
       "      <td>July 17, 2020</td>\n",
       "    </tr>\n",
       "    <tr>\n",
       "      <th>1</th>\n",
       "      <td>Cramer's lightning round: I would own Teradyne</td>\n",
       "      <td>July 17, 2020</td>\n",
       "    </tr>\n",
       "  </tbody>\n",
       "</table>\n",
       "</div>"
      ],
      "text/plain": [
       "                                           Headlines           Time\n",
       "0  Jim Cramer: A better way to invest in the Covi...  July 17, 2020\n",
       "1     Cramer's lightning round: I would own Teradyne  July 17, 2020"
      ]
     },
     "execution_count": 3,
     "metadata": {},
     "output_type": "execute_result"
    }
   ],
   "source": [
    "cnbc_df = pd.read_csv('cnbc_headlines.csv', usecols=['Headlines', 'Time'])\n",
    "cnbc_df.dropna(inplace=True)\n",
    "print(cnbc_df.shape)\n",
    "\n",
    "cnbc_df['Time'] = cnbc_df['Time'].apply(convert_to_month_day_year)\n",
    "cnbc_df.head(2)"
   ]
  },
  {
   "cell_type": "code",
   "execution_count": 4,
   "metadata": {},
   "outputs": [
    {
     "name": "stdout",
     "output_type": "stream",
     "text": [
      "(17800, 2)\n"
     ]
    },
    {
     "data": {
      "text/html": [
       "<div>\n",
       "<style scoped>\n",
       "    .dataframe tbody tr th:only-of-type {\n",
       "        vertical-align: middle;\n",
       "    }\n",
       "\n",
       "    .dataframe tbody tr th {\n",
       "        vertical-align: top;\n",
       "    }\n",
       "\n",
       "    .dataframe thead th {\n",
       "        text-align: right;\n",
       "    }\n",
       "</style>\n",
       "<table border=\"1\" class=\"dataframe\">\n",
       "  <thead>\n",
       "    <tr style=\"text-align: right;\">\n",
       "      <th></th>\n",
       "      <th>Time</th>\n",
       "      <th>Headlines</th>\n",
       "    </tr>\n",
       "  </thead>\n",
       "  <tbody>\n",
       "    <tr>\n",
       "      <th>0</th>\n",
       "      <td>July 18, 2020</td>\n",
       "      <td>Johnson is asking Santa for a Christmas recovery</td>\n",
       "    </tr>\n",
       "    <tr>\n",
       "      <th>1</th>\n",
       "      <td>July 18, 2020</td>\n",
       "      <td>‘I now fear the worst’: four grim tales of wor...</td>\n",
       "    </tr>\n",
       "  </tbody>\n",
       "</table>\n",
       "</div>"
      ],
      "text/plain": [
       "            Time                                          Headlines\n",
       "0  July 18, 2020   Johnson is asking Santa for a Christmas recovery\n",
       "1  July 18, 2020  ‘I now fear the worst’: four grim tales of wor..."
      ]
     },
     "execution_count": 4,
     "metadata": {},
     "output_type": "execute_result"
    }
   ],
   "source": [
    "guardian_df = pd.read_csv('guardian_headlines.csv')\n",
    "guardian_df.dropna(inplace=True)\n",
    "print(guardian_df.shape)\n",
    "\n",
    "guardian_df['Time'] = guardian_df['Time'].apply(convert_to_month_day_year)\n",
    "guardian_df.head(2)"
   ]
  },
  {
   "cell_type": "code",
   "execution_count": 5,
   "metadata": {},
   "outputs": [
    {
     "name": "stdout",
     "output_type": "stream",
     "text": [
      "(32770, 2)\n"
     ]
    },
    {
     "data": {
      "text/html": [
       "<div>\n",
       "<style scoped>\n",
       "    .dataframe tbody tr th:only-of-type {\n",
       "        vertical-align: middle;\n",
       "    }\n",
       "\n",
       "    .dataframe tbody tr th {\n",
       "        vertical-align: top;\n",
       "    }\n",
       "\n",
       "    .dataframe thead th {\n",
       "        text-align: right;\n",
       "    }\n",
       "</style>\n",
       "<table border=\"1\" class=\"dataframe\">\n",
       "  <thead>\n",
       "    <tr style=\"text-align: right;\">\n",
       "      <th></th>\n",
       "      <th>Headlines</th>\n",
       "      <th>Time</th>\n",
       "    </tr>\n",
       "  </thead>\n",
       "  <tbody>\n",
       "    <tr>\n",
       "      <th>0</th>\n",
       "      <td>TikTok considers London and other locations fo...</td>\n",
       "      <td>July 18, 2020</td>\n",
       "    </tr>\n",
       "    <tr>\n",
       "      <th>1</th>\n",
       "      <td>Disney cuts ad spending on Facebook amid growi...</td>\n",
       "      <td>July 18, 2020</td>\n",
       "    </tr>\n",
       "  </tbody>\n",
       "</table>\n",
       "</div>"
      ],
      "text/plain": [
       "                                           Headlines           Time\n",
       "0  TikTok considers London and other locations fo...  July 18, 2020\n",
       "1  Disney cuts ad spending on Facebook amid growi...  July 18, 2020"
      ]
     },
     "execution_count": 5,
     "metadata": {},
     "output_type": "execute_result"
    }
   ],
   "source": [
    "reuters_df = pd.read_csv('reuters_headlines.csv', usecols=['Headlines', 'Time'])\n",
    "reuters_df.dropna(inplace=True)\n",
    "print(reuters_df.shape)\n",
    "\n",
    "reuters_df['Time'] = reuters_df['Time'].apply(convert_to_month_day_year)\n",
    "reuters_df.head(2)"
   ]
  },
  {
   "cell_type": "code",
   "execution_count": 6,
   "metadata": {},
   "outputs": [
    {
     "name": "stdout",
     "output_type": "stream",
     "text": [
      "(306242, 2)\n"
     ]
    }
   ],
   "source": [
    "import os\n",
    "import json \n",
    "\n",
    "\n",
    "folder_paths = ['./2018_1', './2018_2', './2018_3', './2018_4', './2018_5'] \n",
    "\n",
    "data = []\n",
    "\n",
    "for folder_path in folder_paths:\n",
    "    for filename in os.listdir(folder_path):\n",
    "        if filename.endswith('.json'):\n",
    "            file_path = os.path.join(folder_path, filename)\n",
    "            with open(file_path, 'r') as json_file:\n",
    "                json_data = json.load(json_file)\n",
    "            data.append(json_data)\n",
    "\n",
    "json_news_df = pd.json_normalize(data)\n",
    "json_news_df = json_news_df[['title', 'thread.published']]\n",
    "\n",
    "json_news_df.dropna(inplace=True)\n",
    "print(json_news_df.shape)"
   ]
  },
  {
   "cell_type": "code",
   "execution_count": 8,
   "metadata": {},
   "outputs": [
    {
     "data": {
      "text/html": [
       "<div>\n",
       "<style scoped>\n",
       "    .dataframe tbody tr th:only-of-type {\n",
       "        vertical-align: middle;\n",
       "    }\n",
       "\n",
       "    .dataframe tbody tr th {\n",
       "        vertical-align: top;\n",
       "    }\n",
       "\n",
       "    .dataframe thead th {\n",
       "        text-align: right;\n",
       "    }\n",
       "</style>\n",
       "<table border=\"1\" class=\"dataframe\">\n",
       "  <thead>\n",
       "    <tr style=\"text-align: right;\">\n",
       "      <th></th>\n",
       "      <th>Headlines</th>\n",
       "      <th>Time</th>\n",
       "    </tr>\n",
       "  </thead>\n",
       "  <tbody>\n",
       "    <tr>\n",
       "      <th>0</th>\n",
       "      <td>EMERGING MARKETS-Mexican peso seesaws over dol...</td>\n",
       "      <td>January 26, 2018</td>\n",
       "    </tr>\n",
       "    <tr>\n",
       "      <th>1</th>\n",
       "      <td>Migrants must visit Nazi concentration camps, ...</td>\n",
       "      <td>January 10, 2018</td>\n",
       "    </tr>\n",
       "  </tbody>\n",
       "</table>\n",
       "</div>"
      ],
      "text/plain": [
       "                                           Headlines              Time\n",
       "0  EMERGING MARKETS-Mexican peso seesaws over dol...  January 26, 2018\n",
       "1  Migrants must visit Nazi concentration camps, ...  January 10, 2018"
      ]
     },
     "execution_count": 8,
     "metadata": {},
     "output_type": "execute_result"
    }
   ],
   "source": [
    "json_news_df['thread.published'] = json_news_df['thread.published'].apply(convert_to_month_day_year)\n",
    "json_news_df.rename(columns={'title': 'Headlines', 'thread.published': 'Time'}, inplace=True)\n",
    "json_news_df.head(2)"
   ]
  },
  {
   "cell_type": "code",
   "execution_count": 18,
   "metadata": {},
   "outputs": [
    {
     "name": "stdout",
     "output_type": "stream",
     "text": [
      "(359612, 2)\n"
     ]
    },
    {
     "data": {
      "text/html": [
       "<div>\n",
       "<style scoped>\n",
       "    .dataframe tbody tr th:only-of-type {\n",
       "        vertical-align: middle;\n",
       "    }\n",
       "\n",
       "    .dataframe tbody tr th {\n",
       "        vertical-align: top;\n",
       "    }\n",
       "\n",
       "    .dataframe thead th {\n",
       "        text-align: right;\n",
       "    }\n",
       "</style>\n",
       "<table border=\"1\" class=\"dataframe\">\n",
       "  <thead>\n",
       "    <tr style=\"text-align: right;\">\n",
       "      <th></th>\n",
       "      <th>Headlines</th>\n",
       "      <th>Time</th>\n",
       "    </tr>\n",
       "  </thead>\n",
       "  <tbody>\n",
       "    <tr>\n",
       "      <th>0</th>\n",
       "      <td>EMERGING MARKETS-Mexican peso seesaws over dol...</td>\n",
       "      <td>January 26, 2018</td>\n",
       "    </tr>\n",
       "    <tr>\n",
       "      <th>1</th>\n",
       "      <td>Migrants must visit Nazi concentration camps, ...</td>\n",
       "      <td>January 10, 2018</td>\n",
       "    </tr>\n",
       "  </tbody>\n",
       "</table>\n",
       "</div>"
      ],
      "text/plain": [
       "                                           Headlines              Time\n",
       "0  EMERGING MARKETS-Mexican peso seesaws over dol...  January 26, 2018\n",
       "1  Migrants must visit Nazi concentration camps, ...  January 10, 2018"
      ]
     },
     "execution_count": 18,
     "metadata": {},
     "output_type": "execute_result"
    }
   ],
   "source": [
    "# Combine all the dfs\n",
    "news_df = pd.concat([json_news_df, reuters_df, guardian_df, cnbc_df], axis=0)\n",
    "print(news_df.shape)\n",
    "news_df.head(2)"
   ]
  },
  {
   "cell_type": "code",
   "execution_count": 19,
   "metadata": {},
   "outputs": [
    {
     "name": "stdout",
     "output_type": "stream",
     "text": [
      "Removed 39074 rows as duplicates. There are now 320538 rows.\n"
     ]
    }
   ],
   "source": [
    "# Remove the duplicated rows\n",
    "before_rows = news_df.shape[0]\n",
    "news_df.drop_duplicates(inplace=True)\n",
    "\n",
    "print(f\"Removed {before_rows - news_df.shape[0]} rows as duplicates. There are now {news_df.shape[0]} rows.\")"
   ]
  },
  {
   "cell_type": "code",
   "execution_count": 20,
   "metadata": {},
   "outputs": [],
   "source": [
    "news_df.to_csv(\"./news.csv\", index=False)"
   ]
  },
  {
   "attachments": {},
   "cell_type": "markdown",
   "metadata": {},
   "source": [
    "# Macro-Econ Data"
   ]
  },
  {
   "cell_type": "code",
   "execution_count": 5,
   "metadata": {},
   "outputs": [
    {
     "data": {
      "text/html": [
       "<div>\n",
       "<style scoped>\n",
       "    .dataframe tbody tr th:only-of-type {\n",
       "        vertical-align: middle;\n",
       "    }\n",
       "\n",
       "    .dataframe tbody tr th {\n",
       "        vertical-align: top;\n",
       "    }\n",
       "\n",
       "    .dataframe thead th {\n",
       "        text-align: right;\n",
       "    }\n",
       "</style>\n",
       "<table border=\"1\" class=\"dataframe\">\n",
       "  <thead>\n",
       "    <tr style=\"text-align: right;\">\n",
       "      <th></th>\n",
       "      <th>DATE</th>\n",
       "      <th>UNRATE(%)</th>\n",
       "      <th>CONSUMER CONF INDEX</th>\n",
       "      <th>PPI-CONST MAT.</th>\n",
       "      <th>CPIALLITEMS</th>\n",
       "      <th>INFLATION(%)</th>\n",
       "      <th>MORTGAGE INT. MONTHLY AVG(%)</th>\n",
       "      <th>MED HOUSEHOLD INCOME</th>\n",
       "      <th>CORP. BOND YIELD(%)</th>\n",
       "      <th>MONTHLY HOME SUPPLY</th>\n",
       "      <th>% SHARE OF WORKING POPULATION</th>\n",
       "      <th>GDP PER CAPITA</th>\n",
       "      <th>QUARTERLY REAL GDP</th>\n",
       "      <th>QUARTERLY GDP GROWTH RATE (%)</th>\n",
       "      <th>CSUSHPISA</th>\n",
       "    </tr>\n",
       "  </thead>\n",
       "  <tbody>\n",
       "    <tr>\n",
       "      <th>0</th>\n",
       "      <td>01-05-2022</td>\n",
       "      <td>3.6</td>\n",
       "      <td>106.4</td>\n",
       "      <td>352.857</td>\n",
       "      <td>123.322800</td>\n",
       "      <td>8.581511</td>\n",
       "      <td>5.2300</td>\n",
       "      <td>NaN</td>\n",
       "      <td>4.13</td>\n",
       "      <td>8.4</td>\n",
       "      <td>NaN</td>\n",
       "      <td>74737</td>\n",
       "      <td>19699.465</td>\n",
       "      <td>-0.144227</td>\n",
       "      <td>120.724</td>\n",
       "    </tr>\n",
       "    <tr>\n",
       "      <th>1</th>\n",
       "      <td>01-04-2022</td>\n",
       "      <td>3.6</td>\n",
       "      <td>107.3</td>\n",
       "      <td>343.730</td>\n",
       "      <td>121.978170</td>\n",
       "      <td>8.258629</td>\n",
       "      <td>4.9825</td>\n",
       "      <td>NaN</td>\n",
       "      <td>3.76</td>\n",
       "      <td>8.4</td>\n",
       "      <td>NaN</td>\n",
       "      <td>74737</td>\n",
       "      <td>19699.465</td>\n",
       "      <td>-0.144227</td>\n",
       "      <td>121.813</td>\n",
       "    </tr>\n",
       "    <tr>\n",
       "      <th>2</th>\n",
       "      <td>01-03-2022</td>\n",
       "      <td>3.6</td>\n",
       "      <td>107.2</td>\n",
       "      <td>345.852</td>\n",
       "      <td>121.301004</td>\n",
       "      <td>8.542456</td>\n",
       "      <td>4.1720</td>\n",
       "      <td>NaN</td>\n",
       "      <td>3.43</td>\n",
       "      <td>7.0</td>\n",
       "      <td>NaN</td>\n",
       "      <td>73289</td>\n",
       "      <td>19727.918</td>\n",
       "      <td>-0.395692</td>\n",
       "      <td>122.888</td>\n",
       "    </tr>\n",
       "  </tbody>\n",
       "</table>\n",
       "</div>"
      ],
      "text/plain": [
       "         DATE  UNRATE(%)  CONSUMER CONF INDEX  PPI-CONST MAT.  CPIALLITEMS  \\\n",
       "0  01-05-2022        3.6                106.4         352.857   123.322800   \n",
       "1  01-04-2022        3.6                107.3         343.730   121.978170   \n",
       "2  01-03-2022        3.6                107.2         345.852   121.301004   \n",
       "\n",
       "   INFLATION(%)  MORTGAGE INT. MONTHLY AVG(%)  MED HOUSEHOLD INCOME  \\\n",
       "0      8.581511                        5.2300                   NaN   \n",
       "1      8.258629                        4.9825                   NaN   \n",
       "2      8.542456                        4.1720                   NaN   \n",
       "\n",
       "   CORP. BOND YIELD(%)  MONTHLY HOME SUPPLY  % SHARE OF WORKING POPULATION  \\\n",
       "0                 4.13                  8.4                            NaN   \n",
       "1                 3.76                  8.4                            NaN   \n",
       "2                 3.43                  7.0                            NaN   \n",
       "\n",
       "   GDP PER CAPITA  QUARTERLY REAL GDP  QUARTERLY GDP GROWTH RATE (%)  \\\n",
       "0           74737           19699.465                      -0.144227   \n",
       "1           74737           19699.465                      -0.144227   \n",
       "2           73289           19727.918                      -0.395692   \n",
       "\n",
       "   CSUSHPISA  \n",
       "0    120.724  \n",
       "1    121.813  \n",
       "2    122.888  "
      ]
     },
     "execution_count": 5,
     "metadata": {},
     "output_type": "execute_result"
    }
   ],
   "source": [
    "econ_df = pd.read_csv(\"DATA.csv\")\n",
    "econ_df.head(3)"
   ]
  },
  {
   "cell_type": "code",
   "execution_count": 13,
   "metadata": {},
   "outputs": [
    {
     "name": "stderr",
     "output_type": "stream",
     "text": [
      "/var/folders/qg/g7gs2bjn2llf1p8c229qrymw0000gn/T/ipykernel_5057/1898289180.py:3: SettingWithCopyWarning: \n",
      "A value is trying to be set on a copy of a slice from a DataFrame\n",
      "\n",
      "See the caveats in the documentation: https://pandas.pydata.org/pandas-docs/stable/user_guide/indexing.html#returning-a-view-versus-a-copy\n",
      "  imp_econ_df.rename(columns={'DATE': 'date',\n",
      "/var/folders/qg/g7gs2bjn2llf1p8c229qrymw0000gn/T/ipykernel_5057/1898289180.py:10: SettingWithCopyWarning: \n",
      "A value is trying to be set on a copy of a slice from a DataFrame.\n",
      "Try using .loc[row_indexer,col_indexer] = value instead\n",
      "\n",
      "See the caveats in the documentation: https://pandas.pydata.org/pandas-docs/stable/user_guide/indexing.html#returning-a-view-versus-a-copy\n",
      "  imp_econ_df['date'] = imp_econ_df['date'].apply(convert_to_month_day_year)\n"
     ]
    },
    {
     "data": {
      "text/html": [
       "<div>\n",
       "<style scoped>\n",
       "    .dataframe tbody tr th:only-of-type {\n",
       "        vertical-align: middle;\n",
       "    }\n",
       "\n",
       "    .dataframe tbody tr th {\n",
       "        vertical-align: top;\n",
       "    }\n",
       "\n",
       "    .dataframe thead th {\n",
       "        text-align: right;\n",
       "    }\n",
       "</style>\n",
       "<table border=\"1\" class=\"dataframe\">\n",
       "  <thead>\n",
       "    <tr style=\"text-align: right;\">\n",
       "      <th></th>\n",
       "      <th>date</th>\n",
       "      <th>unemployment rate (%)</th>\n",
       "      <th>inflation rate (%)</th>\n",
       "      <th>gdp per capita</th>\n",
       "      <th>quarterly real GDP</th>\n",
       "      <th>quarterly gdp growth rate (%)</th>\n",
       "    </tr>\n",
       "  </thead>\n",
       "  <tbody>\n",
       "    <tr>\n",
       "      <th>0</th>\n",
       "      <td>January 05, 2022</td>\n",
       "      <td>3.6</td>\n",
       "      <td>8.581511</td>\n",
       "      <td>74737</td>\n",
       "      <td>19699.465</td>\n",
       "      <td>-0.144227</td>\n",
       "    </tr>\n",
       "    <tr>\n",
       "      <th>1</th>\n",
       "      <td>January 04, 2022</td>\n",
       "      <td>3.6</td>\n",
       "      <td>8.258629</td>\n",
       "      <td>74737</td>\n",
       "      <td>19699.465</td>\n",
       "      <td>-0.144227</td>\n",
       "    </tr>\n",
       "    <tr>\n",
       "      <th>2</th>\n",
       "      <td>January 03, 2022</td>\n",
       "      <td>3.6</td>\n",
       "      <td>8.542456</td>\n",
       "      <td>73289</td>\n",
       "      <td>19727.918</td>\n",
       "      <td>-0.395692</td>\n",
       "    </tr>\n",
       "  </tbody>\n",
       "</table>\n",
       "</div>"
      ],
      "text/plain": [
       "               date  unemployment rate (%)  inflation rate (%)  \\\n",
       "0  January 05, 2022                    3.6            8.581511   \n",
       "1  January 04, 2022                    3.6            8.258629   \n",
       "2  January 03, 2022                    3.6            8.542456   \n",
       "\n",
       "   gdp per capita  quarterly real GDP  quarterly gdp growth rate (%)  \n",
       "0           74737           19699.465                      -0.144227  \n",
       "1           74737           19699.465                      -0.144227  \n",
       "2           73289           19727.918                      -0.395692  "
      ]
     },
     "execution_count": 13,
     "metadata": {},
     "output_type": "execute_result"
    }
   ],
   "source": [
    "imp_econ_df = econ_df[['DATE', 'UNRATE(%)', 'INFLATION(%)', 'GDP PER CAPITA', 'QUARTERLY REAL GDP', 'QUARTERLY GDP GROWTH RATE (%)']]\n",
    "\n",
    "imp_econ_df.rename(columns={'DATE': 'date', \n",
    "                            'UNRATE(%)': 'unemployment rate (%)', \n",
    "                            'INFLATION(%)': 'inflation rate (%)',\n",
    "                            'GDP PER CAPITA': 'gdp per capita',\n",
    "                            'QUARTERLY REAL GDP': 'quarterly real GDP',\n",
    "                            'QUARTERLY GDP GROWTH RATE (%)': 'quarterly gdp growth rate (%)'}, inplace=True)\n",
    "\n",
    "imp_econ_df['date'] = imp_econ_df['date'].apply(convert_to_month_day_year)\n",
    "imp_econ_df.head(3)"
   ]
  },
  {
   "cell_type": "code",
   "execution_count": 10,
   "metadata": {},
   "outputs": [],
   "source": [
    "imp_econ_df.to_csv(\"econ_data.csv\", index=False)"
   ]
  },
  {
   "cell_type": "code",
   "execution_count": null,
   "metadata": {},
   "outputs": [],
   "source": []
  }
 ],
 "metadata": {
  "kernelspec": {
   "display_name": "jupyter",
   "language": "python",
   "name": "python3"
  },
  "language_info": {
   "codemirror_mode": {
    "name": "ipython",
    "version": 3
   },
   "file_extension": ".py",
   "mimetype": "text/x-python",
   "name": "python",
   "nbconvert_exporter": "python",
   "pygments_lexer": "ipython3",
   "version": "3.9.15"
  },
  "orig_nbformat": 4
 },
 "nbformat": 4,
 "nbformat_minor": 2
}
